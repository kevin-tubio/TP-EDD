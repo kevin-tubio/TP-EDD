{
 "cells": [
  {
   "cell_type": "markdown",
   "id": "64186e21-55f1-4ff6-a7da-780c8c5bcbb8",
   "metadata": {},
   "source": [
    "<h1 style=\"text-align:center;\">Informe Estructura de Datos</h1>\n",
    "\n",
    "---\n",
    "\n",
    "Grupo 4.\n",
    "\n",
    "Integrantes:\n",
    "\n",
    "-Massimino, Agustín\n",
    "\n",
    "-Miguel, Emmanuel\n",
    "\n",
    "-Tubio, Kevin\n",
    "\n",
    "-Caceres Montenegro, Nicolas Benjamin\n"
   ]
  },
  {
   "cell_type": "markdown",
   "id": "3b400fd6-71dc-4ffc-a890-047a69bcb181",
   "metadata": {},
   "source": [
    "*INTRODUCCIÓN*\n",
    "\n",
    "Por medio del presente informe se busca explicar ciertas decisiones de diseño y resoluciones acerca del trabajo que consistía en la obtención de tweets y su previa manipulación, generando un buscador el cual permita encontrar tweets segun el usuario, la fecha y hora, palabras o frases del tweet. \n",
    "Se solicitó que la implementación utilice indices invertidos y se genere una interfaz la cual permita la utilización del buscador"
   ]
  },
  {
   "cell_type": "markdown",
   "id": "fb1f5fb7-ebee-4125-91ec-e3a212d24385",
   "metadata": {},
   "source": [
    "_DIAGRAMA DE CLASES_\n",
    "\n",
    "[https://drive.google.com/file/d/1q1NZr0pBG_p8Oog9_iIxb2jVwRVo1si7/view?usp=sharing](https://drive.google.com/file/d/1q1NZr0pBG_p8Oog9_iIxb2jVwRVo1si7/view?usp=sharing)"
   ]
  },
  {
   "cell_type": "markdown",
   "id": "696b6f6e-6ac3-4fc8-815f-1d742787bab6",
   "metadata": {},
   "source": [
    "_DESARROLLO_\n",
    "\n",
    "El primer desafío que nos encontramos fue una interfaz la cual sea amigable con el usuario pero a su vez que cumpla con lo solicitado. Para lograrlo, generamos una clase llamada \"UI\" ubicada en \"interfaz_usuario.py\" en la cual utilizamos lo que llamamos \"Menú plegable\" el cual muestra una serie de opciones según en la etapa que se esté.\n",
    "Para la etapa inicial se ejecuta el siguiente menú"
   ]
  },
  {
   "cell_type": "code",
   "execution_count": 1,
   "id": "18456e91-c0ce-4ba0-a63b-4811dbdcd985",
   "metadata": {},
   "outputs": [],
   "source": [
    "def __desplegar_menu(self):\n",
    "        print(\"|************************************************************************|\")\n",
    "        print(\"| 1) Descargar Tweets                                                    |\")\n",
    "        print(\"| 2) Indexar (Necesario para buscar)                                     |\")\n",
    "        print(\"| 3) Buscador de Tweets                                                  |\")\n",
    "        print(\"| 4) Cerrar                                                              |\")\n",
    "        print(\"|________________________________________________________________________|\")\n",
    "        print()"
   ]
  },
  {
   "cell_type": "markdown",
   "id": "5843133f-c922-4bc9-883e-9f8c2188be44",
   "metadata": {},
   "source": [
    "Como se observa, el mismo permite ingresar a las distintas funcionalidades de nuestro programa y se encuentran ordenadas en como deberían ser ejecutadas. Primero se debería descargar tweets, luego indexar y finalmente buscar. El programa puede cerrarse utilizando \"CTRL+C\" o utilizando la opción correspondiente."
   ]
  },
  {
   "cell_type": "markdown",
   "id": "fbc630a9-9f64-4eaa-8240-96402066515e",
   "metadata": {},
   "source": [
    "Para la selección de opciones, decidimos utilizar un diccionario, ya que este permite vincular un número (key) con un valor (llamado de función) y así evitamos tener que crear varias estructuras condicionales para su control o un switch. Esto se logra de la siguiente manera:"
   ]
  },
  {
   "cell_type": "code",
   "execution_count": null,
   "id": "0aa0357d-d396-46b1-8a1e-6a9d6f8a9027",
   "metadata": {},
   "outputs": [],
   "source": [
    "def accion(self):\n",
    "        self._ejecutando = True\n",
    "        while self._ejecutando:\n",
    "            try:\n",
    "                self.__desplegar_menu()\n",
    "                n = input(\"\")\n",
    "                self.limpiar_consola()\n",
    "                opciones = {\n",
    "                    \"1\": self._descargador.descargar,\n",
    "                    \"2\": self.indexar,\n",
    "                    \"3\": self.__buscador_menu,\n",
    "                    \"4\": self.cerrar_programa,\n",
    "                }\n",
    "                opciones.get(n, lambda: self.desplegar_mensaje(\"Opcion invalida.\"))()\n",
    "            except OperacionCanceladaException as e:\n",
    "                print(e)\n",
    "            except KeyboardInterrupt:\n",
    "                self.cerrar_programa()"
   ]
  },
  {
   "cell_type": "markdown",
   "id": "249603c7-1fa9-41b8-a544-b8782b38efe4",
   "metadata": {},
   "source": [
    "Podemos ver que el método se fija que el atributo ejecutando sea True (siempre será True salvo cuando se ejecuta el método cerrar_programa). Luego llama al menú y espera un input del usuario. Luego intenta obtener el valor del input en el diccionario y si este no existe, arrojará un mensaje formateado (para eso es el método desplegar_mensaje) diciendo que la opción es inválida y se volverá a desplegar el menú. En caso de que la opción exista, pone el valor pero le agrega parentesis, ya que el llamado de las funciones los necesita para ejecutarse.\n",
    "\n",
    "Como veran, la primer opción llama a un atributo que hace referencia a un objeto. Para que se entienda mejor, indicamos a continuación todos los atributos que posee la clase del interfaz:"
   ]
  },
  {
   "cell_type": "code",
   "execution_count": 2,
   "id": "388153ad-f4bc-4dca-a83d-385c42f3a2b5",
   "metadata": {},
   "outputs": [],
   "source": [
    "def __init__(self):\n",
    "        self._buscador = Buscador()\n",
    "        self._indexador = Indexador()\n",
    "        self._descargador = TweetDownloader()"
   ]
  },
  {
   "cell_type": "markdown",
   "id": "423c0c02-12b7-496c-98c9-817e00c14741",
   "metadata": {},
   "source": [
    "Cada uno de estos atributos es un objeto perteneciente a otra clase. El atributo _buscador_ pertenece a la clase \"Buscador\" que se encuentra en \"buscador.py\"; el atributo _indexador_ pertenece a la clase \"indexador\" y se encuentra en \"indexador.py\" y por último, el atributo _descargador_ pertenece a la clase TweetDownloader ubicada en \"tweet_downloader.py\""
   ]
  },
  {
   "cell_type": "markdown",
   "id": "3aa18ca1-20fc-413a-a2d5-24c48fb9eaff",
   "metadata": {
    "tags": []
   },
   "source": [
    "1) DESCARGAR TWEETS\n"
   ]
  },
  {
   "cell_type": "markdown",
   "id": "446b71d1-8525-45d4-9117-67907faaddc8",
   "metadata": {
    "tags": []
   },
   "source": [
    "\n",
    "La opción de descarga de tweets llama directamente a un método del atributo _descargador_. En esta clase se utiliza la TwitterAPI por lo que fue obligatorio el uso de ciertos métodos para el agregado de reglas, eliminado de reglas, comenzar stream, entre otras.\n",
    "En este paso, nos encontramos con un gran problema: La velocidad de descarga.\n",
    "\n",
    "Nuestra query (llamada así a las reglas que se aplican para la descarga de tweets) inicial no lograba obtener una cantidad significativa de tweets. Estaba descargando aproximadamente unos 100 tweets cada 15 minutos, algo que nos complicaría la obtención de una masa útil de tweets para el proyecto.\n",
    "Tras experimentar con la query, nos dimos cuenta que ampliando el rango de idiomas (al comienzo, solo buscabamos en español), el resultado podría ser totalmente distinto, además decidimos ampliar los resultandos insertando otras monedas (ya que inicialmente buscabamos solo por bitcoin).\n",
    "El cambio fue abismal, pasamos a descargar 1000 tweets por minuto.\n",
    "\n",
    "La query en cuestión quedo de la siguiente forma:"
   ]
  },
  {
   "cell_type": "code",
   "execution_count": null,
   "id": "954eb6ed-ca6d-49e3-9f25-0df1b7374390",
   "metadata": {},
   "outputs": [],
   "source": [
    "query = 'bitcoin OR crypto OR \"blockchain\"'\n",
    "query2 = '\"ethereum\" OR \"dogecoin\" OR \"cardano\"'\n",
    "query3 = '\"DOGE\" OR \"XRP\"'\n",
    "query4 = 'BTC OR ETH'\n",
    "filters = '(lang:es OR lang:en) -is:reply -is:retweet -has:videos -has:links'\n",
    "self.__agregar_regla_al_stream(f'{query} {filters}')\n",
    "self.__agregar_regla_al_stream(f'{query2} {filters}')\n",
    "self.__agregar_regla_al_stream(f'{query3} {filters}')\n",
    "self.__agregar_regla_al_stream(f'{query4} {filters}')"
   ]
  },
  {
   "cell_type": "markdown",
   "id": "7346abf5-55c6-4d68-bf82-ada3e6651d52",
   "metadata": {},
   "source": [
    "Ahora, la descarga de tweets ya no era un problema, pero teníamos que asegurarnos que siempre se guarden los tweets, ya que sino se estaría perdiendo información.\n",
    "Para no tener que grabar en el CSV de forma constante, se estableció que cada 1.000 tweets descargados, se guarde en disco. Además, toda excepción que signifique una finalización de la ejecución (por ejemplo, un KeyboardInterrupt, una perdida de conexión con twitter, entre otros) llama al método que guarda en disco, para que de esta forma, pase lo que pase, se puedan guardar en disco los tweets ya descargados hasta el momento.\n",
    "\n",
    "_¿Por qué CSV?_\n",
    "\n",
    "En conjunto, decidimos que un CSV sería una opción adecuada para el guardado de tweets, ya que estos se guardarían con headers lo que nos permitiría facilmente acceder a cada dato y manipularlo a nuestra conveniencia. Por ejemplo, creamos un método el cual guarda unicamente que los datos que utilizaremos además de brindarles formato a los mismos:"
   ]
  },
  {
   "cell_type": "code",
   "execution_count": null,
   "id": "48db54c9-272c-4444-97a6-5e84c469ed07",
   "metadata": {},
   "outputs": [],
   "source": [
    " def __quitar_atributos_innecesarios(self, tweet : dict) -> dict:\n",
    "        aux = {}\n",
    "        fecha = datetime.fromisoformat(tweet['data']['created_at'][:-1])\n",
    "        aux['fecha'] = fecha.strftime(\"%d/%m/%Y\")\n",
    "        aux['hora'] = fecha.strftime(\"%H:%M\")\n",
    "        aux['id'] = tweet['data']['id']\n",
    "        aux['author_id'] = tweet['data']['author_id']\n",
    "        aux['username'] = tweet['data']['author_id_hydrate']['username']\n",
    "        aux['text'] = tweet['data']['text']\n",
    "        return aux"
   ]
  },
  {
   "cell_type": "markdown",
   "id": "36f2e797-33d6-407b-aab9-258a60e87e9f",
   "metadata": {},
   "source": [
    "Finalmente, nos encontramos con un último desafío, indicarle al usuario que el proceso de descarga estaba funcionando de forma adecuada.\n",
    "Para esto, decidimos generar un nuevo hilo el cual se encargue exclusivamente de generar una animación en pantalla y de actualizar constantemente la cantidad de tweets descargados.\n",
    "Resumidamente, este hilo itera entre una lista de strings, de forma tal que se visualiza como una barra que se desliza de izquierda a derecha. De esta forma, el usuario siempre podrá ver si la ejecución sigue en curso."
   ]
  },
  {
   "cell_type": "markdown",
   "id": "cabe99d2-9a5c-4b73-a529-ed39a67d8eca",
   "metadata": {},
   "source": [
    "2) INDEXAR"
   ]
  },
  {
   "cell_type": "markdown",
   "id": "17a49692-a6fc-43fc-9d9b-1b10c511d500",
   "metadata": {},
   "source": [
    "El indexador fue en lo que invertimos la mayor cantidad de nuestro tiempo. Debíamos lograr hacer un método que sea capaz de controlar miles de tweets a la vez y generar distintos indices invertidos.\n",
    "En nuestro caso, optamos por 4 indices invertidos: Usuarios, Fechas y horas, Palabras y Texto (siendo texto lo tweeteado).\n",
    "\n",
    "Para comenzar, en la inicialización del indexador se definen la cantidad de tweets por bloque (por defecto son 10.000) y otros atributos propios de la clase como las stopwords (tanto en español como en inglés), los distintos diccionarios y una validación de directorios necesaria para que en caso de no existir las carpetas donde se guardaran los archivos, estas sean creadas.\n",
    "\n",
    "Optamos por utilizar un indice BSBI (Blocked sort-based indexing) ya que, de esta forma podríamos generar distintos bloques (como dijimos, cada 10.000 tweets) los cuales serían archivos temporales/intermedios que luego se ordenarían y unirían en un solo archivo final.\n",
    "Por un lado se generan los diccionarios, los cuales contienen clave : id (por ejemplo, en el caso de los usuarios sería Usuario : id), y por otro lado se guarda el posting del mismo (para así lograr formar el indice invertido) el cual tendrá de forma ordenada, listas de tweetsID que corresponden a esa clave.\n",
    "\n",
    "Siguiendo con el ejemplo de usuarios, se ejecutaría el siguiente código por cáda linea de tweets del CSV:\n"
   ]
  },
  {
   "cell_type": "code",
   "execution_count": null,
   "id": "39727c46-e8bc-414f-ab12-c4504b9a5e09",
   "metadata": {},
   "outputs": [],
   "source": [
    "def armar_lista_usuario_tweet_id(self, linea, lista_de_pares: list) -> None:\n",
    "        id_tweet = linea['id']\n",
    "        usuario = linea['username']\n",
    "        self._user_id = self.agregar_a_diccionario_terminos(usuario, self._user_id, self._user_to_user_id)\n",
    "        lista_de_pares.append((self._user_to_user_id[usuario], id_tweet))"
   ]
  },
  {
   "cell_type": "markdown",
   "id": "720f7f66-f945-4d23-b278-6d2e5abeadff",
   "metadata": {
    "tags": []
   },
   "source": [
    "Como se ve, se guarda en un diccionario el usuario con su user_id en el diccionario user_to_user_id. Allí la clave será el usuario y el valor será un número de identificación único.\n",
    "Por otro lado, se agrega a la lista el par (id_usuario, id_tweet). Luego esta lista es intercalada (por el id_usuario) y se agrupan todos los id_tweets de ese usuario en una lista. De esta forma, si tenemos en el diccionario user_to_user_id:\n",
    "\n",
    "```json\n",
    "{ \"Juan\": 0, \"Pedro\": 1 }\n",
    "```\n",
    "\n",
    "Si el posting tiene:\n",
    "\n",
    "```json\n",
    "[\"924\"][\"134\",\"224\",\"341\"]\n",
    "```\n",
    "\n",
    "Sabremos que Juan publico el tweet 924 y Pedro los tweets 134, 224 y 341, debido a que las listas se encuentran ordenadas y corresponden su posición al user_id de cada uno. Y lo mismo ocurre con los otros indices.\n",
    "\n",
    "\n",
    "\n"
   ]
  },
  {
   "cell_type": "markdown",
   "id": "2f773bbd-7d1b-4760-8269-86bd181f0dd2",
   "metadata": {},
   "source": [
    "\n",
    "\n",
    "Pero el gran problema era, _¿Cómo pasamos la lista de pares sin tenerla guardada en memoria?_\n",
    "\n",
    "Para eso, hicimos que al guardar un bloque intermedio a los 10.000 tweets, se guarde un lista con los valores por cada clave y retorne la ruta del archivo generado y la agregue a otra lista. Por lo tanto, nos quedará una lista con strings que serán la ruta que luego leerá el intercalador."
   ]
  },
  {
   "cell_type": "markdown",
   "id": "92d4194e-85ef-4ef2-bc77-f6b3b22cf9a2",
   "metadata": {},
   "source": [
    "\n",
    "El equipo se vio ante la necesidad de poder unir los CSV ya que, cada integrante descargó durante semanas de forma individual su propio CSV. Para esto se desarrollo el método \"unir_csvs\" el cuál une a todos en un solo archivo:"
   ]
  },
  {
   "cell_type": "code",
   "execution_count": null,
   "id": "b16df6a2-9100-4e5c-8764-1fc5986d5ac2",
   "metadata": {},
   "outputs": [],
   "source": [
    " def unir_csvs(self, ruta_documentos: str) -> None:\n",
    "        lista_documentos = [self.__join(ruta_documentos, nombre_doc) \\\n",
    "                        for nombre_doc in os.listdir(ruta_documentos) \\\n",
    "                        if os.path.isfile(self.__join(ruta_documentos, nombre_doc))]\n",
    "\n",
    "        primer_documento = self.__join(ruta_documentos, \"unificado.csv\")\n",
    "        os.rename(lista_documentos.pop(), primer_documento)\n",
    "        with open(primer_documento, \"w\", encoding=\"utf-8\") as unificado:\n",
    "            for documento in lista_documentos:\n",
    "                with open(documento) as doc:\n",
    "                    doc.readline()\n",
    "                    shutil.copyfileobj(doc, unificado)"
   ]
  },
  {
   "cell_type": "markdown",
   "id": "a857fc30-f031-4789-80f6-b853aa3331f0",
   "metadata": {},
   "source": [
    "3) BUSCAR"
   ]
  },
  {
   "cell_type": "markdown",
   "id": "e6a4c24b-5f25-4e21-bd36-e13df77777f3",
   "metadata": {},
   "source": [
    "El opción de buscar no funciona como las anteriores, esta te lleva a un nuevo menú en el cual tendrás que volver a elegir una opción:"
   ]
  },
  {
   "cell_type": "code",
   "execution_count": 4,
   "id": "2f3a0a05-1a2c-4b58-aadf-1a4cd53c55c9",
   "metadata": {},
   "outputs": [],
   "source": [
    "  def __desplegar_menu_buscador(self):\n",
    "        print(\"|************************************************************************|\")\n",
    "        print(\"| 1) Buscar por palabra                                                  |\")\n",
    "        print(\"| 2) Buscar por frase                                                    |\")\n",
    "        print(\"| 3) Buscar por fecha y hora                                             |\")\n",
    "        print(\"| 4) Buscar por usuario                                                  |\")\n",
    "        print(\"| 5) Regresar al menú principal                                          |\")\n",
    "        print(\"| 6) Cerrar programa                                                     |\")\n",
    "        print(\"|________________________________________________________________________|\")\n",
    "        print()"
   ]
  },
  {
   "cell_type": "markdown",
   "id": "539f4137-bcd1-40d6-a86f-2e64392cf3a2",
   "metadata": {},
   "source": [
    "Allí se tienen los distintos tipos de búsqueda y dependiendo del cual se elija se llevará a una función del objeto Buscador distinta.\n",
    "Las búsquedas se realizan todas de manera similar. Se llama a un método del Buscador el cual pasará a buscar los tweetID y los devolverá. Para su funcionamiento es necesario que se le pase el nombre de lo que se busca (Usuarios, tweets, fechas o palabras) y lo que se quiere buscar en cuestión (Por ejemplo, un usuario, una fecha, ) Luego este retorno es utilizado en otro método el cual buscará el texto (lo tweeteado) correspondiente a cada tweetID y así podrá devolver lo que es fue tweeteado."
   ]
  },
  {
   "cell_type": "code",
   "execution_count": null,
   "id": "0a07affb-f39f-4a5a-bbfc-3b563d6f2168",
   "metadata": {},
   "outputs": [],
   "source": [
    "def __obtener_lista_tweet_id(self, nombre: str, termino: str) -> list:\n",
    "        ruta_dict = f\"./salida/diccionario_{nombre}.json\"\n",
    "        ruta_posting = f\"./salida/posting_{nombre}.json\"\n",
    "        with open (ruta_dict, encoding=\"utf-8\") as diccionario:\n",
    "            data = dict(json.load(diccionario))\n",
    "        try:\n",
    "            term_id = int(data[termino])\n",
    "            with open (ruta_posting, encoding=\"utf-8\") as post:\n",
    "                linea = \"\"\n",
    "                for _ in range(term_id + 1):\n",
    "                    linea = post.readline()\n",
    "        except KeyError:\n",
    "            print(f\"No se encontro {termino}\") \n",
    "\n",
    "            return eval(linea)"
   ]
  },
  {
   "cell_type": "code",
   "execution_count": null,
   "id": "23e00bdc-532c-46e5-a218-7b84b15d6714",
   "metadata": {},
   "outputs": [],
   "source": [
    " def __obtener_tweet(self, tweetid : list) -> dict:\n",
    "        ruta_dict = f\"./salida/diccionario_tweets.json\"\n",
    "        ruta_posting = f\"./salida/posting_tweets.json\"\n",
    "        with open (ruta_dict, encoding=\"utf-8\") as diccionario:\n",
    "            data = json.load(diccionario)\n",
    "            try:\n",
    "                pos = []\n",
    "                aux = {}\n",
    "                for t in tweetid:\n",
    "                    for tw, posicion in data.items():\n",
    "                        if int(tw) == int(t):\n",
    "                            pos.append((posicion, tw))\n",
    "                with open (ruta_posting, encoding = \"utf-8\") as post:\n",
    "                    lineas = post.readlines()\n",
    "                    for p, tw  in pos:\n",
    "                        aux[tw] = lineas[int(p)]\n",
    "            except KeyError:\n",
    "                print(f\"No se encontró el tweet {tw}\")\n",
    "            else:\n",
    "                return aux\n",
    "            "
   ]
  },
  {
   "cell_type": "markdown",
   "id": "d3508f4d-bf2a-498c-8c86-16cab61786f4",
   "metadata": {},
   "source": [
    "_EXCEPCIONES_"
   ]
  },
  {
   "cell_type": "markdown",
   "id": "35fed5f8-86c6-4cfb-bf75-d03c6a3d8d8c",
   "metadata": {},
   "source": [
    "Se decidió realizar un manejo de excepciones personalizadas las cuales fueron creadas en el archivo \"excepciones.py\" y las mismas son: OperacionCanceladaException, FechaInvalidaException y TerminoNoEncontradoException"
   ]
  },
  {
   "cell_type": "markdown",
   "id": "e6aa4079-34ed-4f75-ab88-c3fbc06c3b8f",
   "metadata": {},
   "source": [
    "_CONCLUSIONES Y APRENDIZAJE_"
   ]
  },
  {
   "cell_type": "markdown",
   "id": "e1f713a9-9a95-47a3-b34c-358ac086ccea",
   "metadata": {},
   "source": [
    "Podemos concluir que, la clase que conecta a todo el resto es la UI (interfaz_usuario.py). Si tendríamos que describir brevemente cada clase y sus componentes principales podríamos decir que:\n",
    "\n",
    "-UI: Se encarga de solicitar el Input y distribución de tareas.\n",
    "\n",
    "-TweetDownloader: Se encarga de la descarga de los tweets a través de la TwitterAPI y de la modificación y guardado de los mismos en disco.\n",
    "\n",
    "-Indexador: Se compone principalmente de: guardar bloques intermedios, invertir bloques, intercalar bloques y guardar (para el posting) y por otro lado el armado de un diccionario para cada posting.\n",
    "\n",
    "-Buscador: Se compone de un método que obtiene los tweetsID que corresponden a lo buscado y otro que encuentra el texto de cada tweet a partir de su tweetID.\n",
    "\n",
    "\n",
    "A pesar de los desafíos que se nos presentaron, hemos observado que no hay mejor resolución que la cooperación entre los integrantes. Cuando uno se encontraba sin poder avanzar en cierta parte del programa, con solo consultarlo otro podía dar una idea a pesar de no ser la parte que le correspondía hacer, pero de esta forma se logra avanzar con rapidez. \n",
    "Esto, además, nos llevó a darnos cuenta que no solo realizar la tarea que le tocó a cada uno y listo, sino que tambien fue útil revisar lo que le correspondía a los demás, así podíamos tener un pantallazo general de lo que hacía el programa y como se iban a poder relacionar los distintos métodos.\n",
    "\n",
    "Finalmente, el diagrama de clases nos sirvó para orientarnos. En un principio, habíamos comenzado a escribir código sin tener el diagrama hecho, lo cual, evidentemente, no nos llevó a ningún lugar ya que no podíamos entablar una relación entre cada clase y cada método, por ejemplo, no sabíamos que parámetros esperaba x método de otra clase, lo que nos imposibilitaba el avance del código o nos hacía tener que modificarlo al darnos cuenta (o que nos avisen) que otro método esperaba otro tipo de entrada como parámetro o que iba a retornar algo distinto que no tuvimos en cuenta.\n",
    "Al implementar el diagrama estos problemas desaparecieron, cada uno mantenía el diagrama actualizado con los cambios que se aplicaban. De esta manera, todos podíamos saber en todo momento que parámetros y retorno tenía cada uno de los métodos."
   ]
  }
 ],
 "metadata": {
  "kernelspec": {
   "display_name": "Python 3 (ipykernel)",
   "language": "python",
   "name": "python3"
  },
  "language_info": {
   "codemirror_mode": {
    "name": "ipython",
    "version": 3
   },
   "file_extension": ".py",
   "mimetype": "text/x-python",
   "name": "python",
   "nbconvert_exporter": "python",
   "pygments_lexer": "ipython3",
   "version": "3.9.6"
  }
 },
 "nbformat": 4,
 "nbformat_minor": 5
}
